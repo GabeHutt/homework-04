{
  "cells": [
    {
      "cell_type": "markdown",
      "metadata": {},
      "source": [
        "# Homework 4\n",
        "\n",
        "The American Community Survey (ACS) is a large survey of households\n",
        "and individuals in the United States, carried out by the US\n",
        "government on a continuous basis (around 3.5 million people are\n",
        "contacted per year).  It is arguably the most authoritative source\n",
        "of information about the demographic composition of the US\n",
        "population, and is used for many purposes in academic research,\n",
        "government, public policy, and in private industry.\n",
        "\n",
        "Some of the questions in the ACS are about sensitive topics, and therefore are only released in aggregate form. The \"public use microsample\" (PUMS) is a set of individual ACS responses that only includes information that has been deemed safe for public release at the individual level. Here we will work with a subset of the ACS/PUMS data.\n",
        "\n",
        "You will need to refer to the documentation to know what the ACS variable names mean: **[ACS PUMS Codebooks](https://www.census.gov/programs-surveys/acs/microdata/documentation/2018.html)** Scroll down for data dictionary 2018 \"1-year\" ACS/PUMS, available in several formats. This file is also available as a [PDF on our Google Drive](https://drive.google.com/file/d/1Oact1X4F1USo8rhAU9w4AjhEbFhwpK19/view?usp=drive_link).\n",
        "\n",
        "For this course, we are providing a simplified version of the ACS/PUMS data from 2018. It contains a random subset of the cases and a selected subset of variables.\n",
        "\n",
        "Note that many PUMS variables are described as being \"household\" or \"individual\" variables. These refer to characteristics of households (one or more people living at the same address) or to characteristics of individual people, respectively.\n"
      ]
    },
    {
      "cell_type": "code",
      "execution_count": 58,
      "metadata": {},
      "outputs": [],
      "source": [
        "import pandas as pd\n",
        "import numpy as np\n",
        "import seaborn as sb\n",
        "import matplotlib.pyplot as plt"
      ]
    },
    {
      "cell_type": "code",
      "execution_count": 59,
      "metadata": {},
      "outputs": [
        {
          "data": {
            "text/html": [
              "<div>\n",
              "<style scoped>\n",
              "    .dataframe tbody tr th:only-of-type {\n",
              "        vertical-align: middle;\n",
              "    }\n",
              "\n",
              "    .dataframe tbody tr th {\n",
              "        vertical-align: top;\n",
              "    }\n",
              "\n",
              "    .dataframe thead th {\n",
              "        text-align: right;\n",
              "    }\n",
              "</style>\n",
              "<table border=\"1\" class=\"dataframe\">\n",
              "  <thead>\n",
              "    <tr style=\"text-align: right;\">\n",
              "      <th></th>\n",
              "      <th>DIVISION</th>\n",
              "      <th>PUMA</th>\n",
              "      <th>REGION</th>\n",
              "      <th>ST</th>\n",
              "      <th>NP</th>\n",
              "      <th>MRGP</th>\n",
              "      <th>RNTP</th>\n",
              "      <th>TEN</th>\n",
              "      <th>VALP</th>\n",
              "      <th>VEH</th>\n",
              "      <th>...</th>\n",
              "      <th>NRC</th>\n",
              "      <th>PARTNER</th>\n",
              "      <th>R18</th>\n",
              "      <th>R60</th>\n",
              "      <th>R65</th>\n",
              "      <th>TAXAMT</th>\n",
              "      <th>WIF</th>\n",
              "      <th>WKEXREL</th>\n",
              "      <th>WORKSTAT</th>\n",
              "      <th>FFINCP</th>\n",
              "    </tr>\n",
              "  </thead>\n",
              "  <tbody>\n",
              "    <tr>\n",
              "      <th>0</th>\n",
              "      <td>6</td>\n",
              "      <td>800</td>\n",
              "      <td>3</td>\n",
              "      <td>1</td>\n",
              "      <td>4</td>\n",
              "      <td>550.0</td>\n",
              "      <td>NaN</td>\n",
              "      <td>1.0</td>\n",
              "      <td>60000.0</td>\n",
              "      <td>4.0</td>\n",
              "      <td>...</td>\n",
              "      <td>1.0</td>\n",
              "      <td>0.0</td>\n",
              "      <td>1.0</td>\n",
              "      <td>0.0</td>\n",
              "      <td>0.0</td>\n",
              "      <td>325.0</td>\n",
              "      <td>3.0</td>\n",
              "      <td>1.0</td>\n",
              "      <td>1.0</td>\n",
              "      <td>0</td>\n",
              "    </tr>\n",
              "    <tr>\n",
              "      <th>1</th>\n",
              "      <td>6</td>\n",
              "      <td>2500</td>\n",
              "      <td>3</td>\n",
              "      <td>1</td>\n",
              "      <td>1</td>\n",
              "      <td>NaN</td>\n",
              "      <td>NaN</td>\n",
              "      <td>2.0</td>\n",
              "      <td>120000.0</td>\n",
              "      <td>1.0</td>\n",
              "      <td>...</td>\n",
              "      <td>0.0</td>\n",
              "      <td>0.0</td>\n",
              "      <td>0.0</td>\n",
              "      <td>1.0</td>\n",
              "      <td>1.0</td>\n",
              "      <td>625.0</td>\n",
              "      <td>NaN</td>\n",
              "      <td>NaN</td>\n",
              "      <td>NaN</td>\n",
              "      <td>0</td>\n",
              "    </tr>\n",
              "    <tr>\n",
              "      <th>2</th>\n",
              "      <td>6</td>\n",
              "      <td>2702</td>\n",
              "      <td>3</td>\n",
              "      <td>1</td>\n",
              "      <td>3</td>\n",
              "      <td>NaN</td>\n",
              "      <td>120.0</td>\n",
              "      <td>3.0</td>\n",
              "      <td>NaN</td>\n",
              "      <td>2.0</td>\n",
              "      <td>...</td>\n",
              "      <td>2.0</td>\n",
              "      <td>0.0</td>\n",
              "      <td>1.0</td>\n",
              "      <td>0.0</td>\n",
              "      <td>0.0</td>\n",
              "      <td>NaN</td>\n",
              "      <td>0.0</td>\n",
              "      <td>15.0</td>\n",
              "      <td>15.0</td>\n",
              "      <td>0</td>\n",
              "    </tr>\n",
              "    <tr>\n",
              "      <th>3</th>\n",
              "      <td>6</td>\n",
              "      <td>1303</td>\n",
              "      <td>3</td>\n",
              "      <td>1</td>\n",
              "      <td>1</td>\n",
              "      <td>NaN</td>\n",
              "      <td>650.0</td>\n",
              "      <td>3.0</td>\n",
              "      <td>NaN</td>\n",
              "      <td>1.0</td>\n",
              "      <td>...</td>\n",
              "      <td>0.0</td>\n",
              "      <td>0.0</td>\n",
              "      <td>0.0</td>\n",
              "      <td>0.0</td>\n",
              "      <td>0.0</td>\n",
              "      <td>NaN</td>\n",
              "      <td>NaN</td>\n",
              "      <td>NaN</td>\n",
              "      <td>NaN</td>\n",
              "      <td>0</td>\n",
              "    </tr>\n",
              "    <tr>\n",
              "      <th>4</th>\n",
              "      <td>6</td>\n",
              "      <td>2000</td>\n",
              "      <td>3</td>\n",
              "      <td>1</td>\n",
              "      <td>5</td>\n",
              "      <td>NaN</td>\n",
              "      <td>950.0</td>\n",
              "      <td>3.0</td>\n",
              "      <td>NaN</td>\n",
              "      <td>3.0</td>\n",
              "      <td>...</td>\n",
              "      <td>1.0</td>\n",
              "      <td>0.0</td>\n",
              "      <td>1.0</td>\n",
              "      <td>0.0</td>\n",
              "      <td>0.0</td>\n",
              "      <td>NaN</td>\n",
              "      <td>3.0</td>\n",
              "      <td>2.0</td>\n",
              "      <td>1.0</td>\n",
              "      <td>0</td>\n",
              "    </tr>\n",
              "    <tr>\n",
              "      <th>...</th>\n",
              "      <td>...</td>\n",
              "      <td>...</td>\n",
              "      <td>...</td>\n",
              "      <td>...</td>\n",
              "      <td>...</td>\n",
              "      <td>...</td>\n",
              "      <td>...</td>\n",
              "      <td>...</td>\n",
              "      <td>...</td>\n",
              "      <td>...</td>\n",
              "      <td>...</td>\n",
              "      <td>...</td>\n",
              "      <td>...</td>\n",
              "      <td>...</td>\n",
              "      <td>...</td>\n",
              "      <td>...</td>\n",
              "      <td>...</td>\n",
              "      <td>...</td>\n",
              "      <td>...</td>\n",
              "      <td>...</td>\n",
              "      <td>...</td>\n",
              "    </tr>\n",
              "    <tr>\n",
              "      <th>276627</th>\n",
              "      <td>8</td>\n",
              "      <td>300</td>\n",
              "      <td>4</td>\n",
              "      <td>56</td>\n",
              "      <td>3</td>\n",
              "      <td>650.0</td>\n",
              "      <td>NaN</td>\n",
              "      <td>1.0</td>\n",
              "      <td>5575000.0</td>\n",
              "      <td>4.0</td>\n",
              "      <td>...</td>\n",
              "      <td>0.0</td>\n",
              "      <td>0.0</td>\n",
              "      <td>0.0</td>\n",
              "      <td>2.0</td>\n",
              "      <td>2.0</td>\n",
              "      <td>1450.0</td>\n",
              "      <td>0.0</td>\n",
              "      <td>9.0</td>\n",
              "      <td>9.0</td>\n",
              "      <td>0</td>\n",
              "    </tr>\n",
              "    <tr>\n",
              "      <th>276628</th>\n",
              "      <td>8</td>\n",
              "      <td>400</td>\n",
              "      <td>4</td>\n",
              "      <td>56</td>\n",
              "      <td>1</td>\n",
              "      <td>NaN</td>\n",
              "      <td>450.0</td>\n",
              "      <td>3.0</td>\n",
              "      <td>NaN</td>\n",
              "      <td>1.0</td>\n",
              "      <td>...</td>\n",
              "      <td>0.0</td>\n",
              "      <td>0.0</td>\n",
              "      <td>0.0</td>\n",
              "      <td>0.0</td>\n",
              "      <td>0.0</td>\n",
              "      <td>NaN</td>\n",
              "      <td>NaN</td>\n",
              "      <td>NaN</td>\n",
              "      <td>NaN</td>\n",
              "      <td>0</td>\n",
              "    </tr>\n",
              "    <tr>\n",
              "      <th>276629</th>\n",
              "      <td>8</td>\n",
              "      <td>500</td>\n",
              "      <td>4</td>\n",
              "      <td>56</td>\n",
              "      <td>2</td>\n",
              "      <td>NaN</td>\n",
              "      <td>NaN</td>\n",
              "      <td>4.0</td>\n",
              "      <td>NaN</td>\n",
              "      <td>1.0</td>\n",
              "      <td>...</td>\n",
              "      <td>0.0</td>\n",
              "      <td>0.0</td>\n",
              "      <td>0.0</td>\n",
              "      <td>0.0</td>\n",
              "      <td>0.0</td>\n",
              "      <td>NaN</td>\n",
              "      <td>NaN</td>\n",
              "      <td>NaN</td>\n",
              "      <td>NaN</td>\n",
              "      <td>0</td>\n",
              "    </tr>\n",
              "    <tr>\n",
              "      <th>276630</th>\n",
              "      <td>8</td>\n",
              "      <td>500</td>\n",
              "      <td>4</td>\n",
              "      <td>56</td>\n",
              "      <td>2</td>\n",
              "      <td>NaN</td>\n",
              "      <td>NaN</td>\n",
              "      <td>2.0</td>\n",
              "      <td>160000.0</td>\n",
              "      <td>2.0</td>\n",
              "      <td>...</td>\n",
              "      <td>0.0</td>\n",
              "      <td>0.0</td>\n",
              "      <td>0.0</td>\n",
              "      <td>1.0</td>\n",
              "      <td>1.0</td>\n",
              "      <td>0.0</td>\n",
              "      <td>NaN</td>\n",
              "      <td>NaN</td>\n",
              "      <td>NaN</td>\n",
              "      <td>0</td>\n",
              "    </tr>\n",
              "    <tr>\n",
              "      <th>276631</th>\n",
              "      <td>8</td>\n",
              "      <td>100</td>\n",
              "      <td>4</td>\n",
              "      <td>56</td>\n",
              "      <td>2</td>\n",
              "      <td>NaN</td>\n",
              "      <td>400.0</td>\n",
              "      <td>3.0</td>\n",
              "      <td>NaN</td>\n",
              "      <td>2.0</td>\n",
              "      <td>...</td>\n",
              "      <td>0.0</td>\n",
              "      <td>0.0</td>\n",
              "      <td>0.0</td>\n",
              "      <td>0.0</td>\n",
              "      <td>0.0</td>\n",
              "      <td>NaN</td>\n",
              "      <td>2.0</td>\n",
              "      <td>13.0</td>\n",
              "      <td>13.0</td>\n",
              "      <td>1</td>\n",
              "    </tr>\n",
              "  </tbody>\n",
              "</table>\n",
              "<p>276632 rows × 31 columns</p>\n",
              "</div>"
            ],
            "text/plain": [
              "        DIVISION  PUMA  REGION  ST  NP   MRGP   RNTP  TEN       VALP  VEH  \\\n",
              "0              6   800       3   1   4  550.0    NaN  1.0    60000.0  4.0   \n",
              "1              6  2500       3   1   1    NaN    NaN  2.0   120000.0  1.0   \n",
              "2              6  2702       3   1   3    NaN  120.0  3.0        NaN  2.0   \n",
              "3              6  1303       3   1   1    NaN  650.0  3.0        NaN  1.0   \n",
              "4              6  2000       3   1   5    NaN  950.0  3.0        NaN  3.0   \n",
              "...          ...   ...     ...  ..  ..    ...    ...  ...        ...  ...   \n",
              "276627         8   300       4  56   3  650.0    NaN  1.0  5575000.0  4.0   \n",
              "276628         8   400       4  56   1    NaN  450.0  3.0        NaN  1.0   \n",
              "276629         8   500       4  56   2    NaN    NaN  4.0        NaN  1.0   \n",
              "276630         8   500       4  56   2    NaN    NaN  2.0   160000.0  2.0   \n",
              "276631         8   100       4  56   2    NaN  400.0  3.0        NaN  2.0   \n",
              "\n",
              "        ...  NRC  PARTNER  R18  R60  R65  TAXAMT  WIF  WKEXREL  WORKSTAT  \\\n",
              "0       ...  1.0      0.0  1.0  0.0  0.0   325.0  3.0      1.0       1.0   \n",
              "1       ...  0.0      0.0  0.0  1.0  1.0   625.0  NaN      NaN       NaN   \n",
              "2       ...  2.0      0.0  1.0  0.0  0.0     NaN  0.0     15.0      15.0   \n",
              "3       ...  0.0      0.0  0.0  0.0  0.0     NaN  NaN      NaN       NaN   \n",
              "4       ...  1.0      0.0  1.0  0.0  0.0     NaN  3.0      2.0       1.0   \n",
              "...     ...  ...      ...  ...  ...  ...     ...  ...      ...       ...   \n",
              "276627  ...  0.0      0.0  0.0  2.0  2.0  1450.0  0.0      9.0       9.0   \n",
              "276628  ...  0.0      0.0  0.0  0.0  0.0     NaN  NaN      NaN       NaN   \n",
              "276629  ...  0.0      0.0  0.0  0.0  0.0     NaN  NaN      NaN       NaN   \n",
              "276630  ...  0.0      0.0  0.0  1.0  1.0     0.0  NaN      NaN       NaN   \n",
              "276631  ...  0.0      0.0  0.0  0.0  0.0     NaN  2.0     13.0      13.0   \n",
              "\n",
              "        FFINCP  \n",
              "0            0  \n",
              "1            0  \n",
              "2            0  \n",
              "3            0  \n",
              "4            0  \n",
              "...        ...  \n",
              "276627       0  \n",
              "276628       0  \n",
              "276629       0  \n",
              "276630       0  \n",
              "276631       1  \n",
              "\n",
              "[276632 rows x 31 columns]"
            ]
          },
          "execution_count": 59,
          "metadata": {},
          "output_type": "execute_result"
        }
      ],
      "source": [
        "acs = pd.read_csv(\"pums_short.csv.gz\")\n",
        "acs"
      ]
    },
    {
      "cell_type": "markdown",
      "metadata": {},
      "source": [
        "## Question 1\n",
        "\n",
        "### Q 1.a\n",
        "\n",
        "Display the number of rows and columns in the table `acs` as well as the column names.\n"
      ]
    },
    {
      "cell_type": "code",
      "execution_count": 60,
      "metadata": {},
      "outputs": [
        {
          "name": "stdout",
          "output_type": "stream",
          "text": [
            "Q1.a: (rows, columns): (276632, 31)\n",
            "Column Names:  Index(['DIVISION', 'PUMA', 'REGION', 'ST', 'NP', 'MRGP', 'RNTP', 'TEN', 'VALP',\n",
            "       'VEH', 'YBL', 'FES', 'FINCP', 'FPARC', 'HHT', 'HINCP', 'HUPAC', 'MV',\n",
            "       'NOC', 'NPF', 'NR', 'NRC', 'PARTNER', 'R18', 'R60', 'R65', 'TAXAMT',\n",
            "       'WIF', 'WKEXREL', 'WORKSTAT', 'FFINCP'],\n",
            "      dtype='object')\n"
          ]
        }
      ],
      "source": [
        "\n",
        "print(\"Q1.a:\",\"(rows, columns):\", acs.shape)\n",
        "print(\"Column Names: \",acs.columns)\n"
      ]
    },
    {
      "cell_type": "markdown",
      "metadata": {},
      "source": [
        "\n",
        "### Q 1.b\n",
        "\n",
        "Using the codebook, investigate the `\"R65\"` column.\n",
        "\n",
        "* What information is contained in this columns?\n",
        "* What kind of data is this (nominal, ordinal, quantitative)?\n",
        "* Produce a plot that shows the distribution of `\"R65\"` or its key features.\n",
        "* Interpret the plot: what would say is a typical for for `\"VALP\"`?\n",
        "* Compute the cumulative proportions of this variable.\n",
        "* What proportion of households have either 0 or 1 person aged 65 or older?\n",
        "\n"
      ]
    },
    {
      "cell_type": "code",
      "execution_count": 61,
      "metadata": {},
      "outputs": [
        {
          "name": "stdout",
          "output_type": "stream",
          "text": [
            "Q1.b:\n",
            "R65 data type: float64 This column contains the households in which there are members greater or equal to the age of 65\n",
            "This data is quantitative and discrete\n"
          ]
        },
        {
          "data": {
            "image/png": "[encoded data removed]",
            "text/plain": [
              "<Figure size 640x480 with 1 Axes>"
            ]
          },
          "metadata": {},
          "output_type": "display_data"
        },
        {
          "name": "stdout",
          "output_type": "stream",
          "text": [
            "Based on the figure, it can be inferred that most households do not have someone aged 65 or higher, a typical value for VALP would be 0.0\n",
            "R65\n",
            "0.0    0.652720\n",
            "1.0    0.869787\n",
            "2.0    1.000000\n",
            "Name: proportion, dtype: float64\n",
            "Proportion of households with 0 or 1 person aged 65 or older: 0.8697867492102191\n"
          ]
        }
      ],
      "source": [
        "print(\"Q1.b:\")\n",
        "print(\"R65 data type:\", acs['R65'].dtype, \"This column contains the households in which there are members greater or equal to the age of 65\")\n",
        "print(\"This data is quantitative and discrete\")\n",
        "sb.countplot(x=acs['R65'])\n",
        "plt.title(\"Distribution of Number of People Aged 65 or Older in Households\")\n",
        "plt.xlabel('# of Persons')\n",
        "plt.ylabel('Households')\n",
        "plt.show()\n",
        "print(f\"Based on the figure, it can be inferred that most households do not have someone aged 65 or higher, a typical value for VALP would be {acs['R65'].median()}\")\n",
        "cum_prop = acs['R65'].value_counts(normalize=True).sort_index().cumsum()\n",
        "print(cum_prop)\n",
        "prop_0_or_1 = cum_prop[1] \n",
        "print(f\"Proportion of households with 0 or 1 person aged 65 or older: {prop_0_or_1}\")"
      ]
    },
    {
      "cell_type": "markdown",
      "metadata": {},
      "source": [
        "\n",
        "### Q 1.c\n",
        "\n",
        "Using the codebook, investigate the `\"VALP\"` column.\n",
        "\n",
        "* What information is contained in this columns?\n",
        "* What kind of data is this (nominal, ordinal, quantitative)?\n",
        "* Produce a plot that shows the distribution of `\"VALP\"` or its key features.\n",
        "* Interpret the plot: what would you say is a typical for for `\"VALP\"`?\n",
        "* Using numerical summaries, compute the proportion of households that are have less than 50,000 in property value, less than 100,000 in property value, and less than 200,000 in property value.\n",
        "* Compute the 0.1, 0.5, and 0.75 quantiles of `\"VALP\"`.\n"
      ]
    },
    {
      "cell_type": "code",
      "execution_count": 62,
      "metadata": {},
      "outputs": [
        {
          "name": "stdout",
          "output_type": "stream",
          "text": [
            "Q1c:  float64\n",
            "This column contains quantitative data relating to the property value of the house for homeowners and is continuous\n"
          ]
        },
        {
          "data": {
            "image/png": "[encoded data removed]",
            "text/plain": [
              "<Figure size 640x480 with 1 Axes>"
            ]
          },
          "metadata": {},
          "output_type": "display_data"
        },
        {
          "name": "stdout",
          "output_type": "stream",
          "text": [
            "It appears that VALP follows a skewed normal distriubtion, with a typical value around 210000.0\n",
            "Proportion < 50k: 0.04857717111541687\n",
            "Proportion < 100k: 0.12894025275456203\n",
            "Proportion < 200k: 0.29422120362069465\n",
            "Quantiles as follow:\n",
            "0.10     60000.0\n",
            "0.50    210000.0\n",
            "0.75    375000.0\n",
            "Name: VALP, dtype: float64\n"
          ]
        }
      ],
      "source": [
        "print(\"Q1c: \",acs[\"VALP\"].dtype)\n",
        "print(\"This column contains quantitative data relating to the property value of the house for homeowners and is continuous\")\n",
        "acs['VALP'].plot(kind='hist', bins=50, range=(0, 1000000))\n",
        "plt.title(\"Distribution of Property Values (VALP)\")\n",
        "plt.xlabel(\"Property Value\")\n",
        "plt.ylabel(\"Households\")\n",
        "plt.show()\n",
        "print(f\"It appears that VALP follows a skewed normal distriubtion, with a typical value around {acs[\"VALP\"].median()}\")\n",
        "less_than_50k = (acs['VALP'] < 50000).mean()\n",
        "less_than_100k = (acs['VALP'] < 100000).mean()\n",
        "less_than_200k = (acs['VALP'] < 200000).mean()\n",
        "print(f\"Proportion < 50k: {less_than_50k}\")\n",
        "print(f\"Proportion < 100k: {less_than_100k}\")\n",
        "print(f\"Proportion < 200k: {less_than_200k}\")\n",
        "quantiles = acs['VALP'].quantile([0.1, 0.5, 0.75])\n",
        "print(\"Quantiles as follow:\")\n",
        "print(quantiles)"
      ]
    },
    {
      "cell_type": "markdown",
      "metadata": {},
      "source": [
        "\n",
        "\n",
        "### Q 1.d\n",
        "\n",
        "Using the codebook, investigate the `\"REGION\"` column.\n",
        "\n",
        "* What information is contained in this columns?\n",
        "* What kind of data is this (nominal, ordinal, quantitative)?\n",
        "* Using the `replace` method for Series objects, replace the numbers in the `\"REGION\"` column with the names of the regions. Call this new column `\"REGION_name\"`.\n",
        "* Produce a plot that shows the distribution of `\"REGION_name\"` or its key features.\n",
        "* Calculate the distribution of the `\"REGION_name\"` column and print out the results. What proportion of households are in the Northeast and the South combined?\n",
        "\n"
      ]
    },
    {
      "cell_type": "code",
      "execution_count": 63,
      "metadata": {},
      "outputs": [
        {
          "name": "stdout",
          "output_type": "stream",
          "text": [
            "Q1d:  int64\n",
            "This column contains data relating to the region of a household with discrete vaues corresponding to nominal data\n"
          ]
        },
        {
          "data": {
            "image/png": "[encoded data removed]",
            "text/plain": [
              "<Figure size 640x480 with 1 Axes>"
            ]
          },
          "metadata": {},
          "output_type": "display_data"
        },
        {
          "name": "stdout",
          "output_type": "stream",
          "text": [
            "Proportion of households in Northeast and South: 0.5609907747476792\n"
          ]
        }
      ],
      "source": [
        "print(\"Q1d: \",acs[\"REGION\"].dtype)\n",
        "print(\"This column contains data relating to the region of a household with discrete vaues corresponding to nominal data\")\n",
        "region_mapping = {1: 'Northeast', 2: 'Midwest', 3: 'South', 4: 'West'}\n",
        "acs['REGION_name'] = acs['REGION'].replace(region_mapping)\n",
        "sb.countplot(x='REGION_name', data=acs)\n",
        "plt.title(\"Distribution of Households by Region\")\n",
        "plt.xlabel(\"Region\")\n",
        "plt.ylabel(\"Number of Households\")\n",
        "plt.show()\n",
        "region_distribution = acs['REGION_name'].value_counts(normalize=True)\n",
        "northeast_south_prop = region_distribution['Northeast'] + region_distribution['South']\n",
        "print(f\"Proportion of households in Northeast and South: {northeast_south_prop}\")\n",
        "\n"
      ]
    },
    {
      "cell_type": "markdown",
      "metadata": {},
      "source": [
        "\n",
        "\n",
        "\n",
        "## Question 2\n",
        "\n",
        "### Q 2.a\n",
        "\n",
        "Review the `\"ST\"` column in the code book. We can see that the values for `\"ST\"` are numbers in the data set. Should we consider these to be *nominal* data? Why or why not?\n"
      ]
    },
    {
      "cell_type": "markdown",
      "metadata": {},
      "source": [
        "We should consider them as nominal data since each number represents a state code. Therefor, although the data is in numbers it is not quantitative data, and it is not ordinal as their is no ranking of states."
      ]
    },
    {
      "cell_type": "markdown",
      "metadata": {},
      "source": [
        "\n",
        "### Q 2.b\n",
        "\n",
        "Below are two lists with the state codes and the state names listed in the code book for \"ST\".\n",
        "\n",
        "Use these with the `replace` method for Series objects to get a new version of the `\"ST\"` column with nicer, easier to read names. Call this new column `\"ST_name\"`. Demonstrate your results by printing out the state name of the row at position 101,206 in the table."
      ]
    },
    {
      "cell_type": "code",
      "execution_count": 64,
      "metadata": {},
      "outputs": [
        {
          "name": "stdout",
          "output_type": "stream",
          "text": [
            "Iowa/IA\n"
          ]
        }
      ],
      "source": [
        "st_nums = [1, 2, 4, 5, 6, 8, 9, 10, 11, 12, 13, 15, 16, 17, 18, 19, 20, 21, 22, 23, 24, 25, 26, 27, 28, 29, 30, 31, 32, 33, 34, 35, 36, 37, 38, 39, 40, 41, 42, 44, 45, 46, 47, 48, 49, 50, 51, 53, 54, 55, 56, 72]\n",
        "st_names = \"Alabama/AL,Alaska/AK,Arizona/AZ,Arkansas/AR,California/CA,Colorado/CO,Connecticut/CT,Delaware/DE,District of Columbia/DC,Florida/FL,Georgia/GA,Hawaii/HI,Idaho/ID,Illinois/IL,Indiana/IN,Iowa/IA,Kansas/KS,Kentucky/KY,Louisiana/LA,Maine/ME,Maryland/MD,Massachusetts/MA,Michigan/MI,Minnesota/MN,Mississippi/MS,Missouri/MO,Montana/MT,Nebraska/NE,Nevada/NV,New Hampshire/NH,New Jersey/NJ,New Mexico/NM,New York/NY,North Carolina/NC,North Dakota/ND,Ohio/OH,Oklahoma/OK,Oregon/OR,Pennsylvania/PA,Rhode Island/RI,South Carolina/SC,South Dakota/SD,Tennessee/TN,Texas/TX,Utah/UT,Vermont/VT,Virginia/VA,Washington/WA,West Virginia/WV,Wisconsin/WI,Wyoming/WY,Puerto Rico/PRa\".split(\",\")\n",
        "\n",
        "state_mapping = dict(zip(st_nums, st_names))\n",
        "acs['ST_name'] = acs['ST'].replace(state_mapping)\n",
        "print(acs.loc[101206, 'ST_name'])\n",
        "\n"
      ]
    },
    {
      "cell_type": "markdown",
      "metadata": {},
      "source": [
        "### Q 2.c\n",
        "\n",
        "Review the codebook for the `PUMA` column. The description notes that we need to \"use with ST for unique code.\" In other words, the same PUMA code may appear in multiple states, so knowing just the PUMA code is not sufficient to know where a household lives.\n",
        "\n",
        "Verify this result by using `groupby` to create a tall table that contains the number of households in each \"ST_name\" and \"PUMA\" combination (hint: recall the `.size()` method). Use the `.reset_index()` method on this result to make it a little easier to work with. Call this table `ST_PUMA`.\n",
        "\n",
        "Show that PUMA number 100 appears in multiple states.\n",
        "\n"
      ]
    },
    {
      "cell_type": "code",
      "execution_count": 65,
      "metadata": {},
      "outputs": [
        {
          "name": "stdout",
          "output_type": "stream",
          "text": [
            "                ST_name  PUMA  count\n",
            "0            Alabama/AL   100    160\n",
            "39           Arizona/AZ   100     97\n",
            "93          Arkansas/AR   100    203\n",
            "378         Colorado/CO   100    221\n",
            "420      Connecticut/CT   100    139\n",
            "608          Georgia/GA   100    139\n",
            "680           Hawaii/HI   100    202\n",
            "690            Idaho/ID   100    179\n",
            "842             Iowa/IA   100    149\n",
            "864           Kansas/KS   100    166\n",
            "886         Kentucky/KY   100    191\n",
            "920        Louisiana/LA   100    131\n",
            "954            Maine/ME   100    219\n",
            "964         Maryland/MD   100    121\n",
            "1008   Massachusetts/MA   100    209\n",
            "1060        Michigan/MI   100    313\n",
            "1128       Minnesota/MN   100    250\n",
            "1171     Mississippi/MS   100    130\n",
            "1192        Missouri/MO   100    248\n",
            "1239         Montana/MT   100     97\n",
            "1246        Nebraska/NE   100    144\n",
            "1278   New Hampshire/NH   100    226\n",
            "1361      New Mexico/NM   100    236\n",
            "1379        New York/NY   100    182\n",
            "1524  North Carolina/NC   100    206\n",
            "1602    North Dakota/ND   100    203\n",
            "1607            Ohio/OH   100    150\n",
            "1700        Oklahoma/OK   100    273\n",
            "1728          Oregon/OR   100    172\n",
            "1888    South Dakota/SD   100    102\n",
            "1894       Tennessee/TN   100    145\n",
            "1943           Texas/TX   100    268\n",
            "2177         Vermont/VT   100    139\n",
            "2293   West Virginia/WV   100    146\n",
            "2306       Wisconsin/WI   100    496\n",
            "2346         Wyoming/WY   100    121\n"
          ]
        }
      ],
      "source": [
        "ST_PUMA = acs.groupby(['ST_name', 'PUMA']).size().reset_index(name='count')\n",
        "print(ST_PUMA[ST_PUMA['PUMA'] == 100])\n"
      ]
    },
    {
      "cell_type": "markdown",
      "metadata": {},
      "source": [
        "\n",
        "### Q 2.d\n",
        "\n",
        "For each state, find the size (in terms of households) of the largest PUMA in that state.\n"
      ]
    },
    {
      "cell_type": "code",
      "execution_count": 66,
      "metadata": {},
      "outputs": [
        {
          "name": "stdout",
          "output_type": "stream",
          "text": [
            "                    ST_name  largest_PUMA\n",
            "0                Alabama/AL           457\n",
            "1                 Alaska/AK           247\n",
            "2                Arizona/AZ           353\n",
            "3               Arkansas/AR           203\n",
            "4             California/CA           354\n",
            "5               Colorado/CO           221\n",
            "6            Connecticut/CT           223\n",
            "7               Delaware/DE           343\n",
            "8   District of Columbia/DC           170\n",
            "9                Florida/FL           358\n",
            "10               Georgia/GA           233\n",
            "11                Hawaii/HI           202\n",
            "12                 Idaho/ID           180\n",
            "13              Illinois/IL           291\n",
            "14               Indiana/IN           183\n",
            "15                  Iowa/IA           202\n",
            "16                Kansas/KS           210\n",
            "17              Kentucky/KY           197\n",
            "18             Louisiana/LA           273\n",
            "19                 Maine/ME           298\n",
            "20              Maryland/MD           232\n",
            "21         Massachusetts/MA           209\n",
            "22              Michigan/MI           351\n",
            "23             Minnesota/MN           305\n",
            "24           Mississippi/MS           193\n",
            "25              Missouri/MO           248\n",
            "26               Montana/MT           221\n",
            "27              Nebraska/NE           221\n",
            "28                Nevada/NV           196\n",
            "29         New Hampshire/NH           226\n",
            "30            New Jersey/NJ           250\n",
            "31            New Mexico/NM           236\n",
            "32              New York/NY           316\n",
            "33        North Carolina/NC           262\n",
            "34          North Dakota/ND           203\n",
            "35                  Ohio/OH           184\n",
            "36              Oklahoma/OK           282\n",
            "37                Oregon/OR           217\n",
            "38          Pennsylvania/PA           360\n",
            "39          Rhode Island/RI           164\n",
            "40        South Carolina/SC           268\n",
            "41          South Dakota/SD           164\n",
            "42             Tennessee/TN           195\n",
            "43                 Texas/TX           324\n",
            "44                  Utah/UT           193\n",
            "45               Vermont/VT           181\n",
            "46              Virginia/VA           237\n",
            "47            Washington/WA           416\n",
            "48         West Virginia/WV           185\n",
            "49             Wisconsin/WI           496\n",
            "50               Wyoming/WY           142\n"
          ]
        }
      ],
      "source": [
        "largest_PUMA = acs.groupby(['ST_name', 'PUMA']).size().groupby('ST_name').max().reset_index(name='largest_PUMA')\n",
        "print(largest_PUMA)"
      ]
    },
    {
      "cell_type": "markdown",
      "metadata": {},
      "source": [
        "### Q 2.e\n",
        "\n",
        "For each `ST_name` and `PUMA` combination, add up the total income of all households. Use `.reset_index(name = \"total_income\")` to make the table a little easier to work with.\n",
        "\n",
        "Graph the distribution of total income per ST_state-PUMA combination. Using the graph, answer the following questions:\n",
        "\n",
        "* What is a typical value for these total incomes? \n",
        "* Where do most of the observations falls? \n",
        "* Do you see about equal variation across the range of the `total_income` values. \n",
        "\n",
        "(Note: there is a good chance the graph axes will be in \"scientific notation.\" A value like 3e7 means $3 \\times 10^7$.)\n"
      ]
    },
    {
      "cell_type": "code",
      "execution_count": 67,
      "metadata": {},
      "outputs": [
        {
          "data": {
            "image/png": "[encoded data removed]",
            "text/plain": [
              "<Figure size 1000x600 with 1 Axes>"
            ]
          },
          "metadata": {},
          "output_type": "display_data"
        },
        {
          "name": "stdout",
          "output_type": "stream",
          "text": [
            "A typical value for total incomes is 8663750.0\n",
            "Most observations fall within .5 * 1e7 to 1.5 * 1e7\n",
            "There appears to not be equal vaiation across the range of the total_income values as this distribution appears to have positive skew\n"
          ]
        }
      ],
      "source": [
        "total_income = acs.groupby(['ST_name', 'PUMA'])['HINCP'].sum().reset_index(name='total_income')\n",
        "\n",
        "# Plotting\n",
        "plt.figure(figsize=(10, 6))\n",
        "sb.histplot(total_income['total_income'], bins=50)\n",
        "plt.title(\"Distribution of Total Income per ST-PUMA Combination\")\n",
        "plt.xlabel(\"Total Income\")\n",
        "plt.show()\n",
        "print(f\"A typical value for total incomes is {total_income['total_income'].median()}\")\n",
        "print(\"Most observations fall within .5 * 1e7 to 1.5 * 1e7\")\n",
        "print(\"There appears to not be equal vaiation across the range of the total_income values as this distribution appears to have positive skew\")\n",
        "\n"
      ]
    }
  ],
  "metadata": {
    "kernelspec": {
      "display_name": "Python 3",
      "language": "python",
      "name": "python3"
    },
    "language_info": {
      "codemirror_mode": {
        "name": "ipython",
        "version": 3
      },
      "file_extension": ".py",
      "mimetype": "text/x-python",
      "name": "python",
      "nbconvert_exporter": "python",
      "pygments_lexer": "ipython3",
      "version": "3.12.1"
    }
  },
  "nbformat": 4,
  "nbformat_minor": 4
}
